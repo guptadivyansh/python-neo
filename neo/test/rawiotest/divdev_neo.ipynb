{
 "cells": [
  {
   "cell_type": "code",
   "execution_count": 1,
   "metadata": {},
   "outputs": [],
   "source": [
    "\"\"\"\n",
    "Tests of neo.rawio.spikeglxrawio\n",
    "\"\"\"\n",
    "\n",
    "import unittest\n",
    "\n",
    "from neo.rawio.spikeglxrawio import SpikeGLXRawIO\n",
    "from neo.test.rawiotest.common_rawio_test import BaseTestRawIO\n",
    "import numpy as np\n"
   ]
  },
  {
   "cell_type": "code",
   "execution_count": 2,
   "metadata": {},
   "outputs": [],
   "source": [
    "\n",
    "\n",
    "class TestSpikeGLXRawIO(BaseTestRawIO, unittest.TestCase):\n",
    "    rawioclass = SpikeGLXRawIO\n",
    "    entities_to_download = [\"spikeglx\"]\n",
    "    entities_to_test = [\n",
    "        \"spikeglx/Noise4Sam_g0\",\n",
    "        \"spikeglx/TEST_20210920_0_g0\",\n",
    "        # this is only g0 multi index\n",
    "        \"spikeglx/multi_trigger_multi_gate/SpikeGLX/5-19-2022-CI0/5-19-2022-CI0_g0\",\n",
    "        # this is only g1 multi index\n",
    "        \"spikeglx/multi_trigger_multi_gate/SpikeGLX/5-19-2022-CI0/5-19-2022-CI0_g1\",\n",
    "        # this mix both multi gate and multi trigger (and also multi probe)\n",
    "        \"spikeglx/multi_trigger_multi_gate/SpikeGLX/5-19-2022-CI0\",\n",
    "        \"spikeglx/multi_trigger_multi_gate/SpikeGLX/5-19-2022-CI1\",\n",
    "        \"spikeglx/multi_trigger_multi_gate/SpikeGLX/5-19-2022-CI2\",\n",
    "        \"spikeglx/multi_trigger_multi_gate/SpikeGLX/5-19-2022-CI3\",\n",
    "        \"spikeglx/multi_trigger_multi_gate/SpikeGLX/5-19-2022-CI4\",\n",
    "        \"spikeglx/multi_trigger_multi_gate/SpikeGLX/5-19-2022-CI5\",\n",
    "        # different sync/sybset options with commercial NP2\n",
    "        \"spikeglx/NP2_with_sync\",\n",
    "        \"spikeglx/NP2_no_sync\",\n",
    "        \"spikeglx/NP2_subset_with_sync\",\n",
    "        # NP-ultra\n",
    "        \"spikeglx/np_ultra_stub\",\n",
    "        # Filename changed by the user, multi-dock\n",
    "        \"spikeglx/multi_probe_multi_dock_multi_shank_filename_without_info\",\n",
    "        # CatGT\n",
    "        \"spikeglx/multi_trigger_multi_gate/CatGT/CatGT-A\",\n",
    "        \"spikeglx/multi_trigger_multi_gate/CatGT/CatGT-B\",\n",
    "        \"spikeglx/multi_trigger_multi_gate/CatGT/CatGT-C\",\n",
    "        \"spikeglx/multi_trigger_multi_gate/CatGT/CatGT-D\",\n",
    "        \"spikeglx/multi_trigger_multi_gate/CatGT/CatGT-E\",\n",
    "        \"spikeglx/multi_trigger_multi_gate/CatGT/Supercat-A\",\n",
    "    ]\n",
    "\n",
    "    def test_with_location(self):\n",
    "        rawio = SpikeGLXRawIO(self.get_local_path(\"spikeglx/Noise4Sam_g0\"), load_channel_location=True)\n",
    "        rawio.parse_header()\n",
    "        # one of the stream have channel location\n",
    "        have_location = []\n",
    "        for sig_anotations in rawio.raw_annotations[\"blocks\"][0][\"segments\"][0][\"signals\"]:\n",
    "            have_location.append(\"channel_location_0\" in sig_anotations[\"__array_annotations__\"])\n",
    "        assert any(have_location)\n",
    "\n",
    "    def test_sync(self):\n",
    "        rawio_with_sync = SpikeGLXRawIO(self.get_local_path(\"spikeglx/NP2_with_sync\"), load_sync_channel=True)\n",
    "        rawio_with_sync.parse_header()\n",
    "        stream_index = list(rawio_with_sync.header[\"signal_streams\"][\"name\"]).index(\"imec0.ap\")\n",
    "\n",
    "        # AP stream has 385 channels\n",
    "        chunk = rawio_with_sync.get_analogsignal_chunk(\n",
    "            block_index=0, seg_index=0, i_start=0, i_stop=100, stream_index=stream_index\n",
    "        )\n",
    "        assert chunk.shape[1] == 385\n",
    "\n",
    "        rawio_no_sync = SpikeGLXRawIO(self.get_local_path(\"spikeglx/NP2_with_sync\"), load_sync_channel=False)\n",
    "        rawio_no_sync.parse_header()\n",
    "\n",
    "        # AP stream has 384 channels\n",
    "        chunk = rawio_no_sync.get_analogsignal_chunk(\n",
    "            block_index=0, seg_index=0, i_start=0, i_stop=100, stream_index=stream_index\n",
    "        )\n",
    "        assert chunk.shape[1] == 384\n",
    "\n",
    "    def test_no_sync(self):\n",
    "        # requesting sync channel when there is none raises an error\n",
    "        with self.assertRaises(ValueError):\n",
    "            rawio_no_sync = SpikeGLXRawIO(self.get_local_path(\"spikeglx/NP2_no_sync\"), load_sync_channel=True)\n",
    "            rawio_no_sync.parse_header()\n",
    "\n",
    "    def test_subset_with_sync(self):\n",
    "        rawio_sub = SpikeGLXRawIO(self.get_local_path(\"spikeglx/NP2_subset_with_sync\"), load_sync_channel=True)\n",
    "        rawio_sub.parse_header()\n",
    "        stream_index = list(rawio_sub.header[\"signal_streams\"][\"name\"]).index(\"imec0.ap\")\n",
    "\n",
    "        # AP stream has 121 channels\n",
    "        chunk = rawio_sub.get_analogsignal_chunk(\n",
    "            block_index=0, seg_index=0, i_start=0, i_stop=100, stream_index=stream_index\n",
    "        )\n",
    "        assert chunk.shape[1] == 121\n",
    "\n",
    "        rawio_sub_no_sync = SpikeGLXRawIO(self.get_local_path(\"spikeglx/NP2_subset_with_sync\"), load_sync_channel=False)\n",
    "        rawio_sub_no_sync.parse_header()\n",
    "        # AP stream has 120 channels\n",
    "        chunk = rawio_sub_no_sync.get_analogsignal_chunk(\n",
    "            block_index=0, seg_index=0, i_start=0, i_stop=100, stream_index=stream_index\n",
    "        )\n",
    "        assert chunk.shape[1] == 120\n",
    "\n",
    "    def test_nidq_digital_channel(self):\n",
    "        rawio_digital = SpikeGLXRawIO(self.get_local_path(\"spikeglx/DigitalChannelTest_g0\"))\n",
    "        rawio_digital.parse_header()\n",
    "        # This data should have 8 event channels\n",
    "        assert np.shape(rawio_digital.header[\"event_channels\"])[0] == 8\n",
    "\n",
    "        # Channel 0 in this data will have sync pulses at 1 Hz, let's confirm that\n",
    "        all_events = rawio_digital.get_event_timestamps(0, 0, 0)\n",
    "        on_events = np.where(all_events[2] == \"XD0 ON\")\n",
    "        on_ts = all_events[0][on_events]\n",
    "        on_ts_scaled = rawio_digital.rescale_event_timestamp(on_ts)\n",
    "        on_diff = np.diff(on_ts_scaled)\n",
    "        atol = 0.001\n",
    "        assert np.allclose(on_diff, 1, atol=atol)\n",
    "\n",
    "    def test_t_start_reading(self):\n",
    "        \"\"\"Test that t_start values are correctly read for all streams and segments.\"\"\"\n",
    "\n",
    "        # Expected t_start values for each stream and segment\n",
    "        expected_t_starts = {\n",
    "            \"imec0.ap\": {0: 15.319535472007237, 1: 15.339535431281986, 2: 21.284723325294053, 3: 21.3047232845688},\n",
    "            \"imec1.ap\": {0: 15.319554693264516, 1: 15.339521518106308, 2: 21.284735282142822, 3: 21.304702106984614},\n",
    "            \"imec0.lf\": {0: 15.3191688060872, 1: 15.339168765361949, 2: 21.284356659374016, 3: 21.304356618648765},\n",
    "            \"imec1.lf\": {0: 15.319321358082725, 1: 15.339321516521915, 2: 21.284568614155827, 3: 21.30456877259502},\n",
    "        }\n",
    "\n",
    "        # Initialize the RawIO\n",
    "        rawio = SpikeGLXRawIO(self.get_local_path(\"spikeglx/multi_trigger_multi_gate/SpikeGLX/5-19-2022-CI4\"))\n",
    "        rawio.parse_header()\n",
    "\n",
    "        # Get list of stream names\n",
    "        stream_names = rawio.header[\"signal_streams\"][\"name\"]\n",
    "\n",
    "        # Test t_start for each stream and segment\n",
    "        for stream_name, expected_values in expected_t_starts.items():\n",
    "            # Get stream index\n",
    "            stream_index = list(stream_names).index(stream_name)\n",
    "\n",
    "            # Check each segment\n",
    "            for seg_index, expected_t_start in expected_values.items():\n",
    "                actual_t_start = rawio.get_signal_t_start(block_index=0, seg_index=seg_index, stream_index=stream_index)\n",
    "\n",
    "                # Use numpy.testing for proper float comparison\n",
    "                np.testing.assert_allclose(\n",
    "                    actual_t_start,\n",
    "                    expected_t_start,\n",
    "                    rtol=1e-9,\n",
    "                    atol=1e-9,\n",
    "                    err_msg=f\"Mismatch in t_start for stream '{stream_name}', segment {seg_index}\",\n",
    "                )\n"
   ]
  },
  {
   "cell_type": "code",
   "execution_count": 3,
   "metadata": {},
   "outputs": [],
   "source": [
    "testclass = TestSpikeGLXRawIO()"
   ]
  },
  {
   "cell_type": "markdown",
   "metadata": {},
   "source": [
    "### NP2 with sync"
   ]
  },
  {
   "cell_type": "code",
   "execution_count": 4,
   "metadata": {},
   "outputs": [],
   "source": [
    "# rawio = SpikeGLXRawIO(testclass.get_local_path(\"spikeglx/NP2_with_sync\"), load_sync_channel=True)\n",
    "# /home/dgupta/data/20250305-133614\n",
    "rawio = SpikeGLXRawIO(testclass.get_local_path(\"/home/dgupta/data/20250305-133614\"), load_sync_channel=True)\n",
    "\n",
    "rawio.parse_header()\n",
    "stream_index = list(rawio.header[\"signal_streams\"][\"name\"]).index(\"imec0.ap\")\n",
    "\n"
   ]
  },
  {
   "cell_type": "code",
   "execution_count": 6,
   "metadata": {},
   "outputs": [
    {
     "data": {
      "text/plain": [
       "array([('nidq', 'nidq', 'nidq'), ('imec0.ap', 'imec0.ap', 'imec0.ap')],\n",
       "      dtype=[('name', '<U64'), ('id', '<U64'), ('buffer_id', '<U64')])"
      ]
     },
     "execution_count": 6,
     "metadata": {},
     "output_type": "execute_result"
    }
   ],
   "source": [
    "rawio.header['signal_streams']"
   ]
  },
  {
   "cell_type": "code",
   "execution_count": 7,
   "metadata": {},
   "outputs": [
    {
     "data": {
      "text/plain": [
       "dict_keys([(0, 'nidq'), (0, 'imec0.ap')])"
      ]
     },
     "execution_count": 7,
     "metadata": {},
     "output_type": "execute_result"
    }
   ],
   "source": [
    "rawio.signals_info_dict.keys()\n"
   ]
  },
  {
   "cell_type": "code",
   "execution_count": 8,
   "metadata": {},
   "outputs": [
    {
     "data": {
      "text/plain": [
       "dict_keys([(0, 'nidq'), (0, 'imec0.ap')])"
      ]
     },
     "execution_count": 8,
     "metadata": {},
     "output_type": "execute_result"
    }
   ],
   "source": [
    "rawio.signals_info_dict.keys()"
   ]
  },
  {
   "cell_type": "code",
   "execution_count": 9,
   "metadata": {},
   "outputs": [
    {
     "name": "stdout",
     "output_type": "stream",
     "text": [
      "syncImInputSlot 2\n",
      "syncSourceIdx 3\n",
      "syncSourcePeriod 1\n"
     ]
    }
   ],
   "source": [
    "#finding sync channel in imec0.ap\n",
    "\n",
    "for key in rawio.signals_info_dict[(0,'imec0.ap')]['meta']:\n",
    "    if 'sync' in key:\n",
    "        print(key, rawio.signals_info_dict[(0,'imec0.ap')]['meta'][key])"
   ]
  },
  {
   "cell_type": "code",
   "execution_count": 10,
   "metadata": {},
   "outputs": [
    {
     "data": {
      "text/plain": [
       "{0: {0: {'nidq': {'type': 'raw',\n",
       "    'file_path': '/home/dgupta/data/20250305-133614/sglx_20250305-133614.nidq.bin',\n",
       "    'dtype': 'int16',\n",
       "    'order': 'C',\n",
       "    'file_offset': 0,\n",
       "    'shape': (8022991, 2)},\n",
       "   'imec0.ap': {'type': 'raw',\n",
       "    'file_path': '/home/dgupta/data/20250305-133614/sglx_20250305-133614.imec0.ap.bin',\n",
       "    'dtype': 'int16',\n",
       "    'order': 'C',\n",
       "    'file_offset': 0,\n",
       "    'shape': (4813845, 385)}}}}"
      ]
     },
     "execution_count": 10,
     "metadata": {},
     "output_type": "execute_result"
    }
   ],
   "source": [
    "rawio._buffer_descriptions"
   ]
  },
  {
   "cell_type": "code",
   "execution_count": 11,
   "metadata": {},
   "outputs": [],
   "source": [
    "im_dict = rawio.signals_info_dict[(0,'imec0.ap')]"
   ]
  },
  {
   "cell_type": "code",
   "execution_count": 12,
   "metadata": {},
   "outputs": [
    {
     "name": "stdout",
     "output_type": "stream",
     "text": [
      "syncNiChan 2\n",
      "syncNiChanType 0\n",
      "syncNiThresh 1.1\n",
      "syncSourceIdx 3\n",
      "syncSourcePeriod 1\n"
     ]
    }
   ],
   "source": [
    "#finding sync channel in nidq\n",
    "\n",
    "for key in rawio.signals_info_dict[(0,'nidq')]['meta']:\n",
    "    if 'sync' in key:\n",
    "        print(key, rawio.signals_info_dict[(0,'nidq')]['meta'][key])"
   ]
  },
  {
   "cell_type": "code",
   "execution_count": 13,
   "metadata": {},
   "outputs": [
    {
     "data": {
      "text/plain": [
       "['XA0']"
      ]
     },
     "execution_count": 13,
     "metadata": {},
     "output_type": "execute_result"
    }
   ],
   "source": [
    "rawio.signals_info_dict[(0,'nidq')]['analog_channels']"
   ]
  },
  {
   "cell_type": "code",
   "execution_count": 5,
   "metadata": {},
   "outputs": [],
   "source": [
    "timestamps, durations, labels = rawio._get_sync_events(stream_index=0)\n",
    "\n",
    "timestamps_sec = rawio._rescale_event_timestamp(timestamps, stream_index= 0)"
   ]
  },
  {
   "cell_type": "code",
   "execution_count": 6,
   "metadata": {},
   "outputs": [
    {
     "data": {
      "text/plain": [
       "array([  0.20088169,   1.2008901 ,   2.20087852,   3.20088693,\n",
       "         4.20087534,   5.20088376,   6.20089217,   7.20088058,\n",
       "         8.200889  ,   9.20087741,  10.20088582,  11.20089424,\n",
       "        12.20088265,  13.20089106,  14.20087948,  15.20088789,\n",
       "        16.2008963 ,  17.20088472,  18.20089313,  19.20088154,\n",
       "        20.20088996,  21.20089837,  22.20088678,  23.2008952 ,\n",
       "        24.20088361,  25.20089203,  26.20090044,  27.20088885,\n",
       "        28.20089727,  29.20088568,  30.20089409,  31.20090251,\n",
       "        32.20089092,  33.20089933,  34.20088775,  35.20089616,\n",
       "        36.20090457,  37.20089299,  38.2009014 ,  39.20088981,\n",
       "        40.20089823,  41.20090664,  42.20089505,  43.20090347,\n",
       "        44.20089188,  45.20090029,  46.20090871,  47.20089712,\n",
       "        48.20090553,  49.20089395,  50.20090236,  51.20091077,\n",
       "        52.20089919,  53.2009076 ,  54.20089601,  55.20090443,\n",
       "        56.20091284,  57.20090125,  58.20090967,  59.20089808,\n",
       "        60.20090649,  61.20089491,  62.20090332,  63.20091173,\n",
       "        64.20090015,  65.20090856,  66.20089697,  67.20090539,\n",
       "        68.2008938 ,  69.20090221,  70.20091063,  71.20089904,\n",
       "        72.20090746,  73.20089587,  74.20090428,  75.2008927 ,\n",
       "        76.20090111,  77.20090952,  78.20089794,  79.20090635,\n",
       "        80.20089476,  81.20090318,  82.20089159,  83.2009    ,\n",
       "        84.20088842,  85.20089683,  86.20088524,  87.20089366,\n",
       "        88.20090207,  89.20089048,  90.2008989 ,  91.20088731,\n",
       "        92.20089572,  93.20088414,  94.20089255,  95.20088096,\n",
       "        96.20088938,  97.20087779,  98.2008862 ,  99.20087462,\n",
       "       100.20088303, 101.20089144, 102.20087986, 103.20088827,\n",
       "       104.20087668, 105.2008851 , 106.20087351, 107.20088192,\n",
       "       108.20087034, 109.20087875, 110.20086716, 111.20087558,\n",
       "       112.20086399, 113.2008724 , 114.20086082, 115.20086923,\n",
       "       116.20087764, 117.20086606, 118.20087447, 119.20086288,\n",
       "       120.2008713 , 121.20085971, 122.20086812, 123.20085654,\n",
       "       124.20086495, 125.20085336, 126.20086178, 127.20085019,\n",
       "       128.20085861, 129.20084702, 130.20085543, 131.20084385,\n",
       "       132.20085226, 133.20086067, 134.20084909, 135.2008575 ,\n",
       "       136.20084591, 137.20085433, 138.20084274, 139.20085115,\n",
       "       140.20083957, 141.20084798, 142.20083639, 143.20084481,\n",
       "       144.20083322, 145.20084163, 146.20083005, 147.20083846,\n",
       "       148.20082687, 149.20083529, 150.2008437 , 151.20083211,\n",
       "       152.20084053, 153.20082894, 154.20083735, 155.20082577,\n",
       "       156.20083418, 157.20082259, 158.20083101, 159.20081942,\n",
       "       160.20082783,   0.7008859 ,   1.70087431,   2.70088272,\n",
       "         3.70089114,   4.70087955,   5.70088796,   6.70087638,\n",
       "         7.70088479,   8.7008932 ,   9.70088162,  10.70089003,\n",
       "        11.70087844,  12.70088686,  13.70089527,  14.70088368,\n",
       "        15.7008921 ,  16.70088051,  17.70088892,  18.70089734,\n",
       "        19.70088575,  20.70089416,  21.70088258,  22.70089099,\n",
       "        23.70089941,  24.70088782,  25.70089623,  26.70088465,\n",
       "        27.70089306,  28.70090147,  29.70088989,  30.7008983 ,\n",
       "        31.70088671,  32.70089513,  33.70090354,  34.70089195,\n",
       "        35.70090037,  36.70088878,  37.70089719,  38.70090561,\n",
       "        39.70089402,  40.70090243,  41.70089085,  42.70089926,\n",
       "        43.70090767,  44.70089609,  45.7009045 ,  46.70089291,\n",
       "        47.70090133,  48.70090974,  49.70089815,  50.70090657,\n",
       "        51.70089498,  52.70090339,  53.70091181,  54.70090022,\n",
       "        55.70090863,  56.70089705,  57.70090546,  58.70091387,\n",
       "        59.70090229,  60.7009107 ,  61.70089911,  62.70090753,\n",
       "        63.70089594,  64.70090435,  65.70091277,  66.70090118,\n",
       "        67.70090959,  68.70089801,  69.70090642,  70.70089483,\n",
       "        71.70090325,  72.70091166,  73.70090008,  74.70090849,\n",
       "        75.7008969 ,  76.70090532,  77.70089373,  78.70090214,\n",
       "        79.70089056,  80.70089897,  81.70088738,  82.7008958 ,\n",
       "        83.70090421,  84.70089262,  85.70090104,  86.70088945,\n",
       "        87.70089786,  88.70088628,  89.70089469,  90.7008831 ,\n",
       "        91.70089152,  92.70087993,  93.70088834,  94.70089676,\n",
       "        95.70088517,  96.70089358,  97.700882  ,  98.70089041,\n",
       "        99.70087882, 100.70088724, 101.70087565, 102.70088406,\n",
       "       103.70087248, 104.70088089, 105.7008693 , 106.70087772,\n",
       "       107.70086613, 108.70087454, 109.70088296, 110.70087137,\n",
       "       111.70087978, 112.7008682 , 113.70087661, 114.70086502,\n",
       "       115.70087344, 116.70086185, 117.70087026, 118.70085868,\n",
       "       119.70086709, 120.7008555 , 121.70086392, 122.70085233,\n",
       "       123.70086074, 124.70086916, 125.70085757, 126.70086599,\n",
       "       127.7008544 , 128.70086281, 129.70085123, 130.70085964,\n",
       "       131.70084805, 132.70085647, 133.70084488, 134.70085329,\n",
       "       135.70084171, 136.70085012, 137.70083853, 138.70084695,\n",
       "       139.70083536, 140.70084377, 141.70085219, 142.7008406 ,\n",
       "       143.70084901, 144.70083743, 145.70084584, 146.70083425,\n",
       "       147.70084267, 148.70083108, 149.70083949, 150.70082791,\n",
       "       151.70083632, 152.70082473, 153.70083315, 154.70082156,\n",
       "       155.70082997, 156.70081839, 157.7008268 , 158.70083521,\n",
       "       159.70082363])"
      ]
     },
     "execution_count": 6,
     "metadata": {},
     "output_type": "execute_result"
    }
   ],
   "source": [
    "timestamps_sec"
   ]
  },
  {
   "cell_type": "code",
   "execution_count": 7,
   "metadata": {},
   "outputs": [],
   "source": [
    "timestamps, durations, labels = rawio._get_sync_events(stream_index=1)"
   ]
  },
  {
   "cell_type": "code",
   "execution_count": 8,
   "metadata": {},
   "outputs": [],
   "source": [
    "timestamps_sec = rawio._rescale_event_timestamp(timestamps, stream_index= 1)"
   ]
  },
  {
   "cell_type": "code",
   "execution_count": 9,
   "metadata": {},
   "outputs": [
    {
     "data": {
      "text/plain": [
       "array([  0.2009    ,   1.20093333,   2.20093333,   3.20093333,\n",
       "         4.20093333,   5.20093333,   6.20093333,   7.20093333,\n",
       "         8.20093333,   9.20093333,  10.20093333,  11.20093333,\n",
       "        12.20093333,  13.20093333,  14.20093333,  15.20093333,\n",
       "        16.20096667,  17.20096667,  18.20096667,  19.20096667,\n",
       "        20.20096667,  21.20096667,  22.20096667,  23.20096667,\n",
       "        24.20096667,  25.20096667,  26.20096667,  27.20096667,\n",
       "        28.20096667,  29.201     ,  30.201     ,  31.201     ,\n",
       "        32.201     ,  33.201     ,  34.201     ,  35.201     ,\n",
       "        36.201     ,  37.201     ,  38.201     ,  39.201     ,\n",
       "        40.201     ,  41.201     ,  42.201     ,  43.201     ,\n",
       "        44.20103333,  45.20103333,  46.20103333,  47.20103333,\n",
       "        48.20103333,  49.20103333,  50.20103333,  51.20103333,\n",
       "        52.20103333,  53.20103333,  54.20103333,  55.20103333,\n",
       "        56.20103333,  57.20106667,  58.20106667,  59.20106667,\n",
       "        60.20106667,  61.20106667,  62.20106667,  63.20106667,\n",
       "        64.20106667,  65.20106667,  66.20106667,  67.20106667,\n",
       "        68.2011    ,  69.2011    ,  70.2011    ,  71.2011    ,\n",
       "        72.2011    ,  73.2011    ,  74.2011    ,  75.2011    ,\n",
       "        76.2011    ,  77.2011    ,  78.2011    ,  79.2011    ,\n",
       "        80.20113333,  81.20113333,  82.20113333,  83.20113333,\n",
       "        84.20113333,  85.20113333,  86.20113333,  87.20113333,\n",
       "        88.20113333,  89.20113333,  90.20113333,  91.20113333,\n",
       "        92.20113333,  93.20113333,  94.20116667,  95.20116667,\n",
       "        96.20116667,  97.20116667,  98.20116667,  99.20116667,\n",
       "       100.20116667, 101.20116667, 102.20116667, 103.20116667,\n",
       "       104.20116667, 105.20116667, 106.20116667, 107.20116667,\n",
       "       108.2012    , 109.2012    , 110.2012    , 111.2012    ,\n",
       "       112.2012    , 113.2012    , 114.2012    , 115.2012    ,\n",
       "       116.2012    , 117.2012    , 118.2012    , 119.2012    ,\n",
       "       120.2012    , 121.2012    , 122.20123333, 123.20123333,\n",
       "       124.20123333, 125.20123333, 126.20123333, 127.20123333,\n",
       "       128.20123333, 129.20123333, 130.20123333, 131.20123333,\n",
       "       132.20123333, 133.20126667, 134.20126667, 135.20126667,\n",
       "       136.20126667, 137.20126667, 138.20126667, 139.20126667,\n",
       "       140.20126667, 141.20126667, 142.20126667, 143.20126667,\n",
       "       144.20126667, 145.2013    , 146.2013    , 147.2013    ,\n",
       "       148.2013    , 149.2013    , 150.2013    , 151.2013    ,\n",
       "       152.2013    , 153.2013    , 154.2013    , 155.2013    ,\n",
       "       156.2013    , 157.20133333, 158.20133333, 159.20133333,\n",
       "       160.20133333,   0.7009    ,   1.70093333,   2.70093333,\n",
       "         3.70093333,   4.70093333,   5.70093333,   6.70093333,\n",
       "         7.70093333,   8.70093333,   9.70093333,  10.70093333,\n",
       "        11.70093333,  12.70093333,  13.70093333,  14.70093333,\n",
       "        15.70096667,  16.70096667,  17.70096667,  18.70096667,\n",
       "        19.70096667,  20.70096667,  21.70096667,  22.70096667,\n",
       "        23.70096667,  24.70096667,  25.70096667,  26.70096667,\n",
       "        27.70096667,  28.701     ,  29.701     ,  30.701     ,\n",
       "        31.701     ,  32.701     ,  33.701     ,  34.701     ,\n",
       "        35.701     ,  36.701     ,  37.701     ,  38.701     ,\n",
       "        39.701     ,  40.701     ,  41.701     ,  42.701     ,\n",
       "        43.701     ,  44.70103333,  45.70103333,  46.70103333,\n",
       "        47.70103333,  48.70103333,  49.70103333,  50.70103333,\n",
       "        51.70103333,  52.70103333,  53.70103333,  54.70103333,\n",
       "        55.70103333,  56.70106667,  57.70106667,  58.70106667,\n",
       "        59.70106667,  60.70106667,  61.70106667,  62.70106667,\n",
       "        63.70106667,  64.70106667,  65.70106667,  66.70106667,\n",
       "        67.70106667,  68.7011    ,  69.7011    ,  70.7011    ,\n",
       "        71.7011    ,  72.7011    ,  73.7011    ,  74.7011    ,\n",
       "        75.7011    ,  76.7011    ,  77.7011    ,  78.7011    ,\n",
       "        79.7011    ,  80.70113333,  81.70113333,  82.70113333,\n",
       "        83.70113333,  84.70113333,  85.70113333,  86.70113333,\n",
       "        87.70113333,  88.70113333,  89.70113333,  90.70113333,\n",
       "        91.70113333,  92.70113333,  93.70116667,  94.70116667,\n",
       "        95.70116667,  96.70116667,  97.70116667,  98.70116667,\n",
       "        99.70116667, 100.70116667, 101.70116667, 102.70116667,\n",
       "       103.70116667, 104.70116667, 105.70116667, 106.70116667,\n",
       "       107.7012    , 108.7012    , 109.7012    , 110.7012    ,\n",
       "       111.7012    , 112.7012    , 113.7012    , 114.7012    ,\n",
       "       115.7012    , 116.7012    , 117.7012    , 118.7012    ,\n",
       "       119.7012    , 120.7012    , 121.70123333, 122.70123333,\n",
       "       123.70123333, 124.70123333, 125.70123333, 126.70123333,\n",
       "       127.70123333, 128.70123333, 129.70123333, 130.70123333,\n",
       "       131.70123333, 132.70123333, 133.70126667, 134.70126667,\n",
       "       135.70126667, 136.70126667, 137.70126667, 138.70126667,\n",
       "       139.70126667, 140.70126667, 141.70126667, 142.70126667,\n",
       "       143.70126667, 144.7013    , 145.7013    , 146.7013    ,\n",
       "       147.7013    , 148.7013    , 149.7013    , 150.7013    ,\n",
       "       151.7013    , 152.7013    , 153.7013    , 154.7013    ,\n",
       "       155.7013    , 156.70133333, 157.70133333, 158.70133333,\n",
       "       159.70133333])"
      ]
     },
     "execution_count": 9,
     "metadata": {},
     "output_type": "execute_result"
    }
   ],
   "source": [
    "timestamps_sec"
   ]
  },
  {
   "cell_type": "code",
   "execution_count": null,
   "metadata": {},
   "outputs": [],
   "source": [
    "labels"
   ]
  },
  {
   "cell_type": "code",
   "execution_count": null,
   "metadata": {},
   "outputs": [],
   "source": [
    "# Channel 0 in this data will have sync pulses at 1 Hz, let's confirm that\n",
    "syncNiChan = int(rawio.signals_info_dict[(0,'nidq')]['meta']['syncNiChan'])\n",
    "all_events = rawio.get_event_timestamps(0, 0, syncNiChan)\n",
    "on_events = np.where(all_events[2] == f\"XD{syncNiChan} ON\")\n",
    "on_ts = all_events[0][on_events]\n",
    "on_ts_scaled = rawio.rescale_event_timestamp(on_ts)\n",
    "on_diff = np.diff(on_ts_scaled)"
   ]
  },
  {
   "cell_type": "code",
   "execution_count": null,
   "metadata": {},
   "outputs": [],
   "source": [
    "on_diff"
   ]
  },
  {
   "cell_type": "code",
   "execution_count": null,
   "metadata": {},
   "outputs": [],
   "source": [
    "rawio.signals_info_dict[0, \"imec0.ap\"]['channel_names']"
   ]
  },
  {
   "cell_type": "code",
   "execution_count": null,
   "metadata": {},
   "outputs": [],
   "source": [
    "channel = 'SY0'\n",
    "sync_data = rawio.get_analogsignal_chunk(channel_names = [channel], stream_index = stream_index)"
   ]
  },
  {
   "cell_type": "code",
   "execution_count": null,
   "metadata": {},
   "outputs": [],
   "source": [
    "# Convert the uint16 array to uint8\n",
    "sync_data_uint8 = sync_data.view(np.uint8)\n",
    "\n",
    "unpacked_sync_data = np.unpackbits(sync_data_uint8, axis=1)"
   ]
  },
  {
   "cell_type": "code",
   "execution_count": null,
   "metadata": {},
   "outputs": [],
   "source": [
    "this_stream = unpacked_sync_data[:,1]"
   ]
  },
  {
   "cell_type": "code",
   "execution_count": null,
   "metadata": {},
   "outputs": [],
   "source": [
    "timestamps, durations, labels = [], None, []\n",
    "\n",
    "this_rising = np.where(np.diff(this_stream) == 1)[0] + 1\n",
    "this_falling = (\n",
    "    np.where(np.diff(this_stream) == 255)[0] + 1\n",
    ")  # because the data is in unsigned 8 bit, -1 = 255!\n",
    "if len(this_rising) > 0:\n",
    "    timestamps.extend(this_rising)\n",
    "    labels.extend([f\"{channel} ON\"] * len(this_rising))\n",
    "if len(this_falling) > 0:\n",
    "    timestamps.extend(this_falling)\n",
    "    labels.extend([f\"{channel} OFF\"] * len(this_falling))\n",
    "timestamps = np.asarray(timestamps)\n",
    "if len(labels) == 0:\n",
    "    labels = np.asarray(labels, dtype=\"U1\")\n",
    "else:\n",
    "    labels = np.asarray(labels)"
   ]
  },
  {
   "cell_type": "code",
   "execution_count": null,
   "metadata": {},
   "outputs": [],
   "source": [
    "on_events = np.where(labels == f\"{channel} ON\")\n",
    "on_ts = timestamps[on_events]\n",
    "on_ts_scaled = on_ts / float(rawio.signals_info_dict[0, 'imec0.ap']['sampling_rate'])\n",
    "on_diff = np.diff(on_ts_scaled)"
   ]
  },
  {
   "cell_type": "code",
   "execution_count": null,
   "metadata": {},
   "outputs": [],
   "source": [
    "on_diff"
   ]
  },
  {
   "cell_type": "markdown",
   "metadata": {},
   "source": [
    "### DigitalChannelTest_g0"
   ]
  },
  {
   "cell_type": "code",
   "execution_count": null,
   "metadata": {},
   "outputs": [],
   "source": [
    "rawio_digital = SpikeGLXRawIO(testclass.get_local_path(\"spikeglx/DigitalChannelTest_g0\"), load_sync_channel=True)\n",
    "rawio_digital.parse_header()\n"
   ]
  },
  {
   "cell_type": "code",
   "execution_count": null,
   "metadata": {},
   "outputs": [],
   "source": [
    "for key in rawio_digital.signals_info_dict[(0,'nidq')]['meta']:\n",
    "    if 'sync' in key:\n",
    "        print(key, rawio_digital.signals_info_dict[(0,'nidq')]['meta'][key])"
   ]
  },
  {
   "cell_type": "code",
   "execution_count": null,
   "metadata": {},
   "outputs": [],
   "source": [
    "# Channel 0 in this data will have sync pulses at 1 Hz, let's confirm that\n",
    "all_events = rawio_digital.get_event_timestamps(0, 0, 0)\n",
    "on_events = np.where(all_events[2] == \"XD0 ON\")\n",
    "on_ts = all_events[0][on_events]\n",
    "on_ts_scaled = rawio_digital.rescale_event_timestamp(on_ts)\n",
    "on_diff = np.diff(on_ts_scaled)"
   ]
  },
  {
   "cell_type": "code",
   "execution_count": null,
   "metadata": {},
   "outputs": [],
   "source": [
    "on_diff"
   ]
  },
  {
   "cell_type": "code",
   "execution_count": null,
   "metadata": {},
   "outputs": [],
   "source": []
  }
 ],
 "metadata": {
  "kernelspec": {
   "display_name": "si_dev",
   "language": "python",
   "name": "python3"
  },
  "language_info": {
   "codemirror_mode": {
    "name": "ipython",
    "version": 3
   },
   "file_extension": ".py",
   "mimetype": "text/x-python",
   "name": "python",
   "nbconvert_exporter": "python",
   "pygments_lexer": "ipython3",
   "version": "3.12.8"
  }
 },
 "nbformat": 4,
 "nbformat_minor": 2
}
